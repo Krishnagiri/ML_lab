{
 "cells": [
  {
   "cell_type": "code",
   "execution_count": 1,
   "metadata": {},
   "outputs": [
    {
     "data": {
      "image/png": "[encoded data removed]",
      "text/plain": [
       "<Figure size 432x288 with 1 Axes>"
      ]
     },
     "metadata": {},
     "output_type": "display_data"
    }
   ],
   "source": [
    "import numpy as np\n",
    "import matplotlib.pyplot as plt\n",
    "from matplotlib import style\n",
    "import pandas as pd \n",
    "\n",
    "style.use('ggplot')\n",
    "\n",
    "class K_Means:\n",
    "\tdef __init__(self, k =3, tolerance = 0.0001, max_iterations = 500):\n",
    "\t\tself.k = k\n",
    "\t\tself.tolerance = tolerance\n",
    "\t\tself.max_iterations = max_iterations\n",
    "\n",
    "\tdef fit(self, data):\n",
    "\n",
    "\t\tself.centroids = {}\n",
    "\n",
    "\t\t#initialize the centroids, the first 'k' elements in the dataset will be our initial centroids\n",
    "\t\tfor i in range(self.k):\n",
    "\t\t\tself.centroids[i] = data[i]\n",
    "\n",
    "\t\t#begin iterations\n",
    "\t\tfor i in range(self.max_iterations):\n",
    "\t\t\tself.classes = {}\n",
    "\t\t\tfor i in range(self.k):\n",
    "\t\t\t\tself.classes[i] = []\n",
    "\n",
    "\t\t\t#find the distance between the point and cluster; choose the nearest centroid\n",
    "\t\t\tfor features in data:\n",
    "\t\t\t\tdistances = [np.linalg.norm(features - self.centroids[centroid]) for centroid in self.centroids]\n",
    "\t\t\t\tclassification = distances.index(min(distances))\n",
    "\t\t\t\tself.classes[classification].append(features)\n",
    "\n",
    "\t\t\tprevious = dict(self.centroids)\n",
    "\n",
    "\t\t\t#average the cluster datapoints to re-calculate the centroids\n",
    "\t\t\tfor classification in self.classes:\n",
    "\t\t\t\tself.centroids[classification] = np.average(self.classes[classification], axis = 0)\n",
    "\n",
    "\t\t\tisOptimal = True\n",
    "\n",
    "\t\t\tfor centroid in self.centroids:\n",
    "\n",
    "\t\t\t\toriginal_centroid = previous[centroid]\n",
    "\t\t\t\tcurr = self.centroids[centroid]\n",
    "\n",
    "\t\t\t\tif np.sum((curr - original_centroid)/original_centroid * 100.0) > self.tolerance:\n",
    "\t\t\t\t\tisOptimal = False\n",
    "\n",
    "\t\t\t#break out of the main loop if the results are optimal, ie. the centroids don't change their positions much(more than our tolerance)\n",
    "\t\t\tif isOptimal:\n",
    "\t\t\t\tbreak\n",
    "\n",
    "\tdef pred(self, data):\n",
    "\t\tdistances = [np.linalg.norm(data - self.centroids[centroid]) for centroid in self.centroids]\n",
    "\t\tclassification = distances.index(min(distances))\n",
    "\t\treturn classification\n",
    "\n",
    "def main():\n",
    "\t\n",
    "\tdf = pd.read_csv('data.csv')\n",
    "\tdf = df[['one', 'two']]\n",
    "\tdataset = df.astype(float).values.tolist()\n",
    "\n",
    "\tX = df.values #returns a numpy array\n",
    "\t\n",
    "\tkm = K_Means(3)\n",
    "\tkm.fit(X)\n",
    "\n",
    "\t# Plotting starts here\n",
    "\tcolors = 10*[\"r\", \"g\", \"c\", \"b\", \"k\"]\n",
    "\n",
    "\tfor centroid in km.centroids:\n",
    "\t\tplt.scatter(km.centroids[centroid][0], km.centroids[centroid][1], s = 130, marker = \"x\")\n",
    "\n",
    "\tfor classification in km.classes:\n",
    "\t\tcolor = colors[classification]\n",
    "\t\tfor features in km.classes[classification]:\n",
    "\t\t\tplt.scatter(features[0], features[1], color = color,s = 30)\n",
    "\t\n",
    "\tplt.show()\n",
    "\n",
    "\n",
    "main()"
   ]
  },
  {
   "cell_type": "code",
   "execution_count": null,
   "metadata": {},
   "outputs": [],
   "source": []
  },
  {
   "cell_type": "code",
   "execution_count": null,
   "metadata": {},
   "outputs": [],
   "source": []
  },
  {
   "cell_type": "code",
   "execution_count": null,
   "metadata": {},
   "outputs": [],
   "source": []
  }
 ],
 "metadata": {
  "kernelspec": {
   "display_name": "Python 3",
   "language": "python",
   "name": "python3"
  },
  "language_info": {
   "codemirror_mode": {
    "name": "ipython",
    "version": 3
   },
   "file_extension": ".py",
   "mimetype": "text/x-python",
   "name": "python",
   "nbconvert_exporter": "python",
   "pygments_lexer": "ipython3",
   "version": "3.8.8"
  }
 },
 "nbformat": 4,
 "nbformat_minor": 2
}
